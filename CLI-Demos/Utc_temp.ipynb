{
 "cells": [
  {
   "cell_type": "code",
   "execution_count": 1,
   "metadata": {},
   "outputs": [],
   "source": [
    "# %load_ext autoreload\n",
    "# %autoreload 2\n",
    "# import os\n",
    "# from pathlib import Path\n",
    "\n",
    "# print(Path().cwd())\n",
    "# os.chdir(Path().cwd().parent)\n",
    "# print(Path().cwd())"
   ]
  },
  {
   "cell_type": "markdown",
   "metadata": {
    "vscode": {
     "languageId": "plaintext"
    }
   },
   "source": [
    "# Wavelet"
   ]
  },
  {
   "cell_type": "code",
   "execution_count": 2,
   "metadata": {},
   "outputs": [],
   "source": [
    "# from pyquantus.utc.analysis import Hscan\n",
    "\n",
    "# wavelet_params_1 = {\n",
    "#     'order': 2, \n",
    "#     'fs': 30e6, \n",
    "#     'sigma': 0.11e-6, \n",
    "#     'wavelet_duration': 3e-6,\n",
    "#     'visualize': True\n",
    "# }\n",
    "\n",
    "# wavelet_params_2 = {\n",
    "#     'order': 8, \n",
    "#     'fs': 30e6, \n",
    "#     'sigma': 0.11e-6, \n",
    "#     'wavelet_duration': 3e-6,\n",
    "#     'visualize': True\n",
    "# }\n",
    "\n",
    "# Hscan.GaussinaHermiteWavelet(**wavelet_params_1)\n",
    "# Hscan.GaussinaHermiteWavelet(**wavelet_params_2)"
   ]
  },
  {
   "cell_type": "markdown",
   "metadata": {},
   "source": [
    "# Read sample data"
   ]
  },
  {
   "cell_type": "code",
   "execution_count": 3,
   "metadata": {},
   "outputs": [],
   "source": [
    "# from pyquantus.parse.clarius import ClariusParser\n",
    "\n",
    "# rf_path = r'd:\\Omid\\0_samples\\6_test_with_without_gain\\10.02.2025\\raw_0_extracted\\2025-01-28t07-20-59+0000_rf.raw'\n",
    "# rf_tgc_path = r'd:\\Omid\\0_samples\\6_test_with_without_gain\\10.02.2025\\raw_0_extracted\\2025-01-28T07-20-59+0000_env.tgc.yml'\n",
    "# info_path = r'd:\\Omid\\0_samples\\6_test_with_without_gain\\10.02.2025\\raw_0_extracted\\2025-01-28T07-20-59+0000_rf.yml'\n",
    "\n",
    "# data_obj = ClariusParser(rf_path, rf_tgc_path, info_path, visualize=True) # image = phantom for now"
   ]
  },
  {
   "cell_type": "code",
   "execution_count": 4,
   "metadata": {},
   "outputs": [],
   "source": [
    "# from pyquantus.parse.clarius import ClariusParser\n",
    "\n",
    "# rf_path = r'D:\\Omid\\0_samples\\Jonas_Bowel\\test\\UKDIBD001CD2TI\\raw_0_0_extracted\\2024-08-21t07-04-33+0000_rf.raw'\n",
    "# rf_tgc_path = r'D:\\Omid\\0_samples\\Jonas_Bowel\\test\\UKDIBD001CD2TI\\raw_0_0_extracted\\2024-08-21t07-04-33+0000_env.tgc.yml'\n",
    "# info_path = r'D:\\Omid\\0_samples\\Jonas_Bowel\\test\\UKDIBD001CD2TI\\raw_0_0_extracted\\2024-08-21t07-04-33+0000_rf.yml'\n",
    "\n",
    "# data_obj = ClariusParser(rf_path, rf_tgc_path, info_path, visualize=True) # image = phantom for now"
   ]
  },
  {
   "cell_type": "code",
   "execution_count": 5,
   "metadata": {},
   "outputs": [],
   "source": [
    "# signal_nd = data_obj.clarius_data_struct.rf\n",
    "# print(signal_nd.shape)\n",
    "\n",
    "# import numpy as np\n",
    "# # Save signal_nd as a numpy array file\n",
    "# np.save('signal_nd.npy', signal_nd)\n",
    "\n"
   ]
  },
  {
   "cell_type": "code",
   "execution_count": 6,
   "metadata": {},
   "outputs": [],
   "source": [
    "# import numpy as np\n",
    "\n",
    "# # Load the signal_nd from the saved numpy array file\n",
    "# signal_nd = np.load('signal_nd.npy')\n",
    "\n",
    "# print(signal_nd.shape)\n",
    "\n",
    "# signal_nd = signal_nd[:, :, :]"
   ]
  },
  {
   "cell_type": "code",
   "execution_count": 7,
   "metadata": {},
   "outputs": [],
   "source": [
    "#signal_nd = data_obj.rf_no_tgc_raw_data_3d\n",
    "# signal_nd = data_obj.rf_raw_data_3d\n",
    "\n",
    "# print(signal_nd.shape)\n"
   ]
  },
  {
   "cell_type": "markdown",
   "metadata": {},
   "source": [
    "# Hscan"
   ]
  },
  {
   "cell_type": "code",
   "execution_count": 8,
   "metadata": {},
   "outputs": [],
   "source": [
    "# from pyquantus.utc.analysis import Hscan\n",
    "\n",
    "# hscan_params = {\n",
    "#     'signal_nd': signal_nd,\n",
    "#     'row_axis': 2,\n",
    "#     'signal_axis': 1,\n",
    "#     'frame_axis': 0,\n",
    "#     'wavelet_GHx_params_1': {\n",
    "#         'order': 2, \n",
    "#         'fs': 30e6, \n",
    "#         'sigma': 0.11e-6, \n",
    "#         'wavelet_duration': 3e-6,\n",
    "#         'visualize': False\n",
    "#     },\n",
    "#     'wavelet_GHx_params_2': {\n",
    "#         'order': 8, \n",
    "#         'fs': 30e6, \n",
    "#         'sigma': 0.11e-6, \n",
    "#         'wavelet_duration': 3e-6,\n",
    "#         'visualize': False\n",
    "#     }\n",
    "# }\n",
    "\n",
    "# hscan_obj = Hscan(**hscan_params)\n"
   ]
  },
  {
   "cell_type": "code",
   "execution_count": 9,
   "metadata": {},
   "outputs": [],
   "source": [
    "# print(hscan_obj.convolved_signal_with_ghx_1_nd.shape)\n",
    "# print(hscan_obj.convolved_signal_with_ghx_2_nd.shape)\n",
    "# print(hscan_obj.convolved_signal_with_ghx_1_envelope_nd.shape)\n",
    "# print(hscan_obj.convolved_signal_with_ghx_2_envelope_nd.shape)\n"
   ]
  },
  {
   "cell_type": "code",
   "execution_count": 10,
   "metadata": {},
   "outputs": [],
   "source": [
    "# from pyquantus.utc.results import HscanPostProcessing\n",
    "\n",
    "# settings = {\n",
    "#     'method': 'method_1',           # method_1, method_2, method_3, method_4, method_5, method_6\n",
    "#     'visualize_wavelets': False,    # True, False\n",
    "#     'visualize_signal': False,      # True, False\n",
    "#     'visualize_hscan': True,        # True, False\n",
    "#     'visualize_rotated_flip': False, # True, False\n",
    "#     'clip_fact': 0.95,              # 0-1\n",
    "#     'dyn_range': 60,                # 0-100\n",
    "# }\n",
    "\n",
    "# HscanPostProcessing(hscan_obj, **settings)"
   ]
  },
  {
   "cell_type": "markdown",
   "metadata": {},
   "source": [
    "# CFS"
   ]
  },
  {
   "cell_type": "code",
   "execution_count": 11,
   "metadata": {},
   "outputs": [
    {
     "name": "stdout",
     "output_type": "stream",
     "text": [
      "(34, 2928, 192)\n",
      "(2928,)\n"
     ]
    }
   ],
   "source": [
    "import numpy as np\n",
    "\n",
    "# Load the signal_nd from the saved numpy array file\n",
    "signal_nd = np.load('signal_nd.npy')\n",
    "\n",
    "print(signal_nd.shape)\n",
    "\n",
    "signal_1d = signal_nd[0, :, 0]\n",
    "print(signal_1d.shape)\n"
   ]
  },
  {
   "cell_type": "code",
   "execution_count": 12,
   "metadata": {},
   "outputs": [],
   "source": [
    "# signal_1d = data_obj.rf_raw_data_3d[0, :, 0]"
   ]
  },
  {
   "cell_type": "code",
   "execution_count": 13,
   "metadata": {},
   "outputs": [
    {
     "name": "stdout",
     "output_type": "stream",
     "text": [
      "depth_array:  [0.00000000e+00 2.56666667e-03 5.13333333e-03 ... 7.50750000e+00\n",
      " 7.51006667e+00 7.51263333e+00]\n",
      "time_array:  [0.00000000e+00 3.33333333e-08 6.66666667e-08 ... 9.75000000e-05\n",
      " 9.75333333e-05 9.75666667e-05]\n"
     ]
    }
   ],
   "source": [
    "from pyquantus.utc.analysis import DepthTimeArrayGenerator\n",
    "\n",
    "depth_time_obj = DepthTimeArrayGenerator(\n",
    "    signal_len=len(signal_1d),\n",
    "    sampling_frequency_MHz=30,\n",
    "    speed_of_sound_m_s=1540,\n",
    ")\n",
    "\n",
    "print(\"depth_array: \", depth_time_obj.depth_array_cm)\n",
    "print(\"time_array: \", depth_time_obj.time_array_s)"
   ]
  },
  {
   "cell_type": "code",
   "execution_count": 14,
   "metadata": {},
   "outputs": [
    {
     "ename": "TypeError",
     "evalue": "Dimensions of C (64, 47) are incompatible with X (46) and/or Y (64); see help(pcolormesh)",
     "output_type": "error",
     "traceback": [
      "\u001b[31m---------------------------------------------------------------------------\u001b[39m",
      "\u001b[31mTypeError\u001b[39m                                 Traceback (most recent call last)",
      "\u001b[36mCell\u001b[39m\u001b[36m \u001b[39m\u001b[32mIn[14]\u001b[39m\u001b[32m, line 4\u001b[39m\n\u001b[32m      1\u001b[39m \u001b[38;5;28;01mfrom\u001b[39;00m\u001b[38;5;250m \u001b[39m\u001b[34;01mpyquantus\u001b[39;00m\u001b[34;01m.\u001b[39;00m\u001b[34;01mutc\u001b[39;00m\u001b[34;01m.\u001b[39;00m\u001b[34;01manalysis\u001b[39;00m\u001b[38;5;250m \u001b[39m\u001b[38;5;28;01mimport\u001b[39;00m CentralFrequencyShift\n\u001b[32m      3\u001b[39m \u001b[38;5;66;03m# Create instance\u001b[39;00m\n\u001b[32m----> \u001b[39m\u001b[32m4\u001b[39m cfs = \u001b[43mCentralFrequencyShift\u001b[49m\u001b[43m(\u001b[49m\n\u001b[32m      5\u001b[39m \u001b[43m    \u001b[49m\u001b[43msignal_1d\u001b[49m\u001b[43m=\u001b[49m\u001b[43msignal_1d\u001b[49m\u001b[43m,\u001b[49m\n\u001b[32m      6\u001b[39m \u001b[43m    \u001b[49m\u001b[43msampling_frequency_MHz\u001b[49m\u001b[43m=\u001b[49m\u001b[32;43m30\u001b[39;49m\u001b[43m,\u001b[49m\n\u001b[32m      7\u001b[39m \u001b[43m    \u001b[49m\u001b[43mtime_array_s\u001b[49m\u001b[43m=\u001b[49m\u001b[43mdepth_time_obj\u001b[49m\u001b[43m.\u001b[49m\u001b[43mtime_array_s\u001b[49m\u001b[43m,\u001b[49m\n\u001b[32m      8\u001b[39m \u001b[43m    \u001b[49m\u001b[43mdepth_array_cm\u001b[49m\u001b[43m=\u001b[49m\u001b[43mdepth_time_obj\u001b[49m\u001b[43m.\u001b[49m\u001b[43mdepth_array_cm\u001b[49m\u001b[43m,\u001b[49m\u001b[43m  \u001b[49m\n\u001b[32m      9\u001b[39m \u001b[43m    \u001b[49m\u001b[43mstft_params\u001b[49m\u001b[43m=\u001b[49m\u001b[43m{\u001b[49m\u001b[33;43m'\u001b[39;49m\u001b[33;43mnperseg\u001b[39;49m\u001b[33;43m'\u001b[39;49m\u001b[43m:\u001b[49m\u001b[43m \u001b[49m\u001b[32;43m128\u001b[39;49m\u001b[43m,\u001b[49m\n\u001b[32m     10\u001b[39m \u001b[43m                 \u001b[49m\u001b[33;43m'\u001b[39;49m\u001b[33;43moverlap\u001b[39;49m\u001b[33;43m'\u001b[39;49m\u001b[43m:\u001b[49m\u001b[43m \u001b[49m\u001b[32;43m64\u001b[39;49m\u001b[43m}\u001b[49m\u001b[43m  \u001b[49m\n\u001b[32m     11\u001b[39m \u001b[43m)\u001b[49m\n",
      "\u001b[36mFile \u001b[39m\u001b[32mC:\\0_Main\\2_Quantitative_ultrasound\\2_github\\PyQuantUS\\pyquantus\\utc\\analysis.py:861\u001b[39m, in \u001b[36mCentralFrequencyShift.__init__\u001b[39m\u001b[34m(self, signal_1d, sampling_frequency_MHz, time_array_s, depth_array_cm, speed_of_sound_m_s, stft_params, use_fft)\u001b[39m\n\u001b[32m    858\u001b[39m \u001b[38;5;28mself\u001b[39m.fitted_sigmas = \u001b[38;5;28;01mNone\u001b[39;00m\n\u001b[32m    859\u001b[39m \u001b[38;5;28mself\u001b[39m.gaussian_fits = \u001b[38;5;28;01mNone\u001b[39;00m\n\u001b[32m--> \u001b[39m\u001b[32m861\u001b[39m \u001b[38;5;28;43mself\u001b[39;49m\u001b[43m.\u001b[49m\u001b[43m__run\u001b[49m\u001b[43m(\u001b[49m\u001b[43m)\u001b[49m\n",
      "\u001b[36mFile \u001b[39m\u001b[32mC:\\0_Main\\2_Quantitative_ultrasound\\2_github\\PyQuantUS\\pyquantus\\utc\\analysis.py:872\u001b[39m, in \u001b[36mCentralFrequencyShift.__run\u001b[39m\u001b[34m(self)\u001b[39m\n\u001b[32m    870\u001b[39m \u001b[38;5;28mself\u001b[39m.adjust_depth_array()\n\u001b[32m    871\u001b[39m \u001b[38;5;28mself\u001b[39m.fit_gaussian_peaks()    \n\u001b[32m--> \u001b[39m\u001b[32m872\u001b[39m \u001b[38;5;28;43mself\u001b[39;49m\u001b[43m.\u001b[49m\u001b[43mplot_stft_spectrogram\u001b[49m\u001b[43m(\u001b[49m\u001b[43m)\u001b[49m\n\u001b[32m    873\u001b[39m \u001b[38;5;28mself\u001b[39m.plot_signal_segments(method_type=\u001b[33m'\u001b[39m\u001b[33mstft\u001b[39m\u001b[33m'\u001b[39m, use_gaussian_fit=\u001b[38;5;28;01mFalse\u001b[39;00m)\n\u001b[32m    874\u001b[39m \u001b[38;5;28mself\u001b[39m.plot_frequency_shift()\n",
      "\u001b[36mFile \u001b[39m\u001b[32mC:\\0_Main\\2_Quantitative_ultrasound\\2_github\\PyQuantUS\\pyquantus\\utc\\analysis.py:976\u001b[39m, in \u001b[36mCentralFrequencyShift.plot_stft_spectrogram\u001b[39m\u001b[34m(self, log_scale)\u001b[39m\n\u001b[32m    974\u001b[39m \u001b[38;5;250m\u001b[39m\u001b[33;03m\"\"\"Plot the STFT spectrogram.\"\"\"\u001b[39;00m\n\u001b[32m    975\u001b[39m plt.figure(figsize=(\u001b[32m10\u001b[39m, \u001b[32m6\u001b[39m))\n\u001b[32m--> \u001b[39m\u001b[32m976\u001b[39m \u001b[43mplt\u001b[49m\u001b[43m.\u001b[49m\u001b[43mpcolormesh\u001b[49m\u001b[43m(\u001b[49m\n\u001b[32m    977\u001b[39m \u001b[43m    \u001b[49m\u001b[38;5;28;43mself\u001b[39;49m\u001b[43m.\u001b[49m\u001b[43mtimes_stft\u001b[49m\u001b[43m,\u001b[49m\n\u001b[32m    978\u001b[39m \u001b[43m    \u001b[49m\u001b[38;5;28;43mself\u001b[39;49m\u001b[43m.\u001b[49m\u001b[43mfrequencies_stft\u001b[49m\u001b[43m \u001b[49m\u001b[43m/\u001b[49m\u001b[43m \u001b[49m\u001b[32;43m1e6\u001b[39;49m\u001b[43m,\u001b[49m\n\u001b[32m    979\u001b[39m \u001b[43m    \u001b[49m\u001b[43mnp\u001b[49m\u001b[43m.\u001b[49m\u001b[43mlog\u001b[49m\u001b[43m(\u001b[49m\u001b[38;5;28;43mself\u001b[39;49m\u001b[43m.\u001b[49m\u001b[43mamplitudes_stft\u001b[49m\u001b[43m)\u001b[49m\u001b[43m \u001b[49m\u001b[38;5;28;43;01mif\u001b[39;49;00m\u001b[43m \u001b[49m\u001b[43mlog_scale\u001b[49m\u001b[43m \u001b[49m\u001b[38;5;28;43;01melse\u001b[39;49;00m\u001b[43m \u001b[49m\u001b[38;5;28;43mself\u001b[39;49m\u001b[43m.\u001b[49m\u001b[43mamplitudes_stft\u001b[49m\u001b[43m,\u001b[49m\n\u001b[32m    980\u001b[39m \u001b[43m    \u001b[49m\u001b[43mshading\u001b[49m\u001b[43m=\u001b[49m\u001b[33;43m'\u001b[39;49m\u001b[33;43mgouraud\u001b[39;49m\u001b[33;43m'\u001b[39;49m\u001b[43m,\u001b[49m\n\u001b[32m    981\u001b[39m \u001b[43m    \u001b[49m\u001b[43mcmap\u001b[49m\u001b[43m=\u001b[49m\u001b[33;43m'\u001b[39;49m\u001b[33;43mjet\u001b[39;49m\u001b[33;43m'\u001b[39;49m\n\u001b[32m    982\u001b[39m \u001b[43m\u001b[49m\u001b[43m)\u001b[49m\n\u001b[32m    983\u001b[39m plt.colorbar(label=\u001b[33m\"\u001b[39m\u001b[33mAmplitude\u001b[39m\u001b[33m\"\u001b[39m)\n\u001b[32m    984\u001b[39m plt.xlabel(\u001b[33m\"\u001b[39m\u001b[33mTime (s)\u001b[39m\u001b[33m\"\u001b[39m)\n",
      "\u001b[36mFile \u001b[39m\u001b[32mc:\\0_Main\\2_Quantitative_ultrasound\\2_github\\PyQuantUS\\.venv\\Lib\\site-packages\\matplotlib\\pyplot.py:3729\u001b[39m, in \u001b[36mpcolormesh\u001b[39m\u001b[34m(alpha, norm, cmap, vmin, vmax, colorizer, shading, antialiased, data, *args, **kwargs)\u001b[39m\n\u001b[32m   3715\u001b[39m \u001b[38;5;129m@_copy_docstring_and_deprecators\u001b[39m(Axes.pcolormesh)\n\u001b[32m   3716\u001b[39m \u001b[38;5;28;01mdef\u001b[39;00m\u001b[38;5;250m \u001b[39m\u001b[34mpcolormesh\u001b[39m(\n\u001b[32m   3717\u001b[39m     *args: ArrayLike,\n\u001b[32m   (...)\u001b[39m\u001b[32m   3727\u001b[39m     **kwargs,\n\u001b[32m   3728\u001b[39m ) -> QuadMesh:\n\u001b[32m-> \u001b[39m\u001b[32m3729\u001b[39m     __ret = \u001b[43mgca\u001b[49m\u001b[43m(\u001b[49m\u001b[43m)\u001b[49m\u001b[43m.\u001b[49m\u001b[43mpcolormesh\u001b[49m\u001b[43m(\u001b[49m\n\u001b[32m   3730\u001b[39m \u001b[43m        \u001b[49m\u001b[43m*\u001b[49m\u001b[43margs\u001b[49m\u001b[43m,\u001b[49m\n\u001b[32m   3731\u001b[39m \u001b[43m        \u001b[49m\u001b[43malpha\u001b[49m\u001b[43m=\u001b[49m\u001b[43malpha\u001b[49m\u001b[43m,\u001b[49m\n\u001b[32m   3732\u001b[39m \u001b[43m        \u001b[49m\u001b[43mnorm\u001b[49m\u001b[43m=\u001b[49m\u001b[43mnorm\u001b[49m\u001b[43m,\u001b[49m\n\u001b[32m   3733\u001b[39m \u001b[43m        \u001b[49m\u001b[43mcmap\u001b[49m\u001b[43m=\u001b[49m\u001b[43mcmap\u001b[49m\u001b[43m,\u001b[49m\n\u001b[32m   3734\u001b[39m \u001b[43m        \u001b[49m\u001b[43mvmin\u001b[49m\u001b[43m=\u001b[49m\u001b[43mvmin\u001b[49m\u001b[43m,\u001b[49m\n\u001b[32m   3735\u001b[39m \u001b[43m        \u001b[49m\u001b[43mvmax\u001b[49m\u001b[43m=\u001b[49m\u001b[43mvmax\u001b[49m\u001b[43m,\u001b[49m\n\u001b[32m   3736\u001b[39m \u001b[43m        \u001b[49m\u001b[43mcolorizer\u001b[49m\u001b[43m=\u001b[49m\u001b[43mcolorizer\u001b[49m\u001b[43m,\u001b[49m\n\u001b[32m   3737\u001b[39m \u001b[43m        \u001b[49m\u001b[43mshading\u001b[49m\u001b[43m=\u001b[49m\u001b[43mshading\u001b[49m\u001b[43m,\u001b[49m\n\u001b[32m   3738\u001b[39m \u001b[43m        \u001b[49m\u001b[43mantialiased\u001b[49m\u001b[43m=\u001b[49m\u001b[43mantialiased\u001b[49m\u001b[43m,\u001b[49m\n\u001b[32m   3739\u001b[39m \u001b[43m        \u001b[49m\u001b[43m*\u001b[49m\u001b[43m*\u001b[49m\u001b[43m(\u001b[49m\u001b[43m{\u001b[49m\u001b[33;43m\"\u001b[39;49m\u001b[33;43mdata\u001b[39;49m\u001b[33;43m\"\u001b[39;49m\u001b[43m:\u001b[49m\u001b[43m \u001b[49m\u001b[43mdata\u001b[49m\u001b[43m}\u001b[49m\u001b[43m \u001b[49m\u001b[38;5;28;43;01mif\u001b[39;49;00m\u001b[43m \u001b[49m\u001b[43mdata\u001b[49m\u001b[43m \u001b[49m\u001b[38;5;129;43;01mis\u001b[39;49;00m\u001b[43m \u001b[49m\u001b[38;5;129;43;01mnot\u001b[39;49;00m\u001b[43m \u001b[49m\u001b[38;5;28;43;01mNone\u001b[39;49;00m\u001b[43m \u001b[49m\u001b[38;5;28;43;01melse\u001b[39;49;00m\u001b[43m \u001b[49m\u001b[43m{\u001b[49m\u001b[43m}\u001b[49m\u001b[43m)\u001b[49m\u001b[43m,\u001b[49m\n\u001b[32m   3740\u001b[39m \u001b[43m        \u001b[49m\u001b[43m*\u001b[49m\u001b[43m*\u001b[49m\u001b[43mkwargs\u001b[49m\u001b[43m,\u001b[49m\n\u001b[32m   3741\u001b[39m \u001b[43m    \u001b[49m\u001b[43m)\u001b[49m\n\u001b[32m   3742\u001b[39m     sci(__ret)\n\u001b[32m   3743\u001b[39m     \u001b[38;5;28;01mreturn\u001b[39;00m __ret\n",
      "\u001b[36mFile \u001b[39m\u001b[32mc:\\0_Main\\2_Quantitative_ultrasound\\2_github\\PyQuantUS\\.venv\\Lib\\site-packages\\matplotlib\\__init__.py:1521\u001b[39m, in \u001b[36m_preprocess_data.<locals>.inner\u001b[39m\u001b[34m(ax, data, *args, **kwargs)\u001b[39m\n\u001b[32m   1518\u001b[39m \u001b[38;5;129m@functools\u001b[39m.wraps(func)\n\u001b[32m   1519\u001b[39m \u001b[38;5;28;01mdef\u001b[39;00m\u001b[38;5;250m \u001b[39m\u001b[34minner\u001b[39m(ax, *args, data=\u001b[38;5;28;01mNone\u001b[39;00m, **kwargs):\n\u001b[32m   1520\u001b[39m     \u001b[38;5;28;01mif\u001b[39;00m data \u001b[38;5;129;01mis\u001b[39;00m \u001b[38;5;28;01mNone\u001b[39;00m:\n\u001b[32m-> \u001b[39m\u001b[32m1521\u001b[39m         \u001b[38;5;28;01mreturn\u001b[39;00m \u001b[43mfunc\u001b[49m\u001b[43m(\u001b[49m\n\u001b[32m   1522\u001b[39m \u001b[43m            \u001b[49m\u001b[43max\u001b[49m\u001b[43m,\u001b[49m\n\u001b[32m   1523\u001b[39m \u001b[43m            \u001b[49m\u001b[43m*\u001b[49m\u001b[38;5;28;43mmap\u001b[39;49m\u001b[43m(\u001b[49m\u001b[43mcbook\u001b[49m\u001b[43m.\u001b[49m\u001b[43msanitize_sequence\u001b[49m\u001b[43m,\u001b[49m\u001b[43m \u001b[49m\u001b[43margs\u001b[49m\u001b[43m)\u001b[49m\u001b[43m,\u001b[49m\n\u001b[32m   1524\u001b[39m \u001b[43m            \u001b[49m\u001b[43m*\u001b[49m\u001b[43m*\u001b[49m\u001b[43m{\u001b[49m\u001b[43mk\u001b[49m\u001b[43m:\u001b[49m\u001b[43m \u001b[49m\u001b[43mcbook\u001b[49m\u001b[43m.\u001b[49m\u001b[43msanitize_sequence\u001b[49m\u001b[43m(\u001b[49m\u001b[43mv\u001b[49m\u001b[43m)\u001b[49m\u001b[43m \u001b[49m\u001b[38;5;28;43;01mfor\u001b[39;49;00m\u001b[43m \u001b[49m\u001b[43mk\u001b[49m\u001b[43m,\u001b[49m\u001b[43m \u001b[49m\u001b[43mv\u001b[49m\u001b[43m \u001b[49m\u001b[38;5;129;43;01min\u001b[39;49;00m\u001b[43m \u001b[49m\u001b[43mkwargs\u001b[49m\u001b[43m.\u001b[49m\u001b[43mitems\u001b[49m\u001b[43m(\u001b[49m\u001b[43m)\u001b[49m\u001b[43m}\u001b[49m\u001b[43m)\u001b[49m\n\u001b[32m   1526\u001b[39m     bound = new_sig.bind(ax, *args, **kwargs)\n\u001b[32m   1527\u001b[39m     auto_label = (bound.arguments.get(label_namer)\n\u001b[32m   1528\u001b[39m                   \u001b[38;5;129;01mor\u001b[39;00m bound.kwargs.get(label_namer))\n",
      "\u001b[36mFile \u001b[39m\u001b[32mc:\\0_Main\\2_Quantitative_ultrasound\\2_github\\PyQuantUS\\.venv\\Lib\\site-packages\\matplotlib\\axes\\_axes.py:6522\u001b[39m, in \u001b[36mAxes.pcolormesh\u001b[39m\u001b[34m(self, alpha, norm, cmap, vmin, vmax, colorizer, shading, antialiased, *args, **kwargs)\u001b[39m\n\u001b[32m   6519\u001b[39m shading = shading.lower()\n\u001b[32m   6520\u001b[39m kwargs.setdefault(\u001b[33m'\u001b[39m\u001b[33medgecolors\u001b[39m\u001b[33m'\u001b[39m, \u001b[33m'\u001b[39m\u001b[33mnone\u001b[39m\u001b[33m'\u001b[39m)\n\u001b[32m-> \u001b[39m\u001b[32m6522\u001b[39m X, Y, C, shading = \u001b[38;5;28;43mself\u001b[39;49m\u001b[43m.\u001b[49m\u001b[43m_pcolorargs\u001b[49m\u001b[43m(\u001b[49m\u001b[33;43m'\u001b[39;49m\u001b[33;43mpcolormesh\u001b[39;49m\u001b[33;43m'\u001b[39;49m\u001b[43m,\u001b[49m\u001b[43m \u001b[49m\u001b[43m*\u001b[49m\u001b[43margs\u001b[49m\u001b[43m,\u001b[49m\n\u001b[32m   6523\u001b[39m \u001b[43m                                    \u001b[49m\u001b[43mshading\u001b[49m\u001b[43m=\u001b[49m\u001b[43mshading\u001b[49m\u001b[43m,\u001b[49m\u001b[43m \u001b[49m\u001b[43mkwargs\u001b[49m\u001b[43m=\u001b[49m\u001b[43mkwargs\u001b[49m\u001b[43m)\u001b[49m\n\u001b[32m   6524\u001b[39m coords = np.stack([X, Y], axis=-\u001b[32m1\u001b[39m)\n\u001b[32m   6526\u001b[39m kwargs.setdefault(\u001b[33m'\u001b[39m\u001b[33msnap\u001b[39m\u001b[33m'\u001b[39m, mpl.rcParams[\u001b[33m'\u001b[39m\u001b[33mpcolormesh.snap\u001b[39m\u001b[33m'\u001b[39m])\n",
      "\u001b[36mFile \u001b[39m\u001b[32mc:\\0_Main\\2_Quantitative_ultrasound\\2_github\\PyQuantUS\\.venv\\Lib\\site-packages\\matplotlib\\axes\\_axes.py:6060\u001b[39m, in \u001b[36mAxes._pcolorargs\u001b[39m\u001b[34m(self, funcname, shading, *args, **kwargs)\u001b[39m\n\u001b[32m   6058\u001b[39m \u001b[38;5;28;01melse\u001b[39;00m:    \u001b[38;5;66;03m# ['nearest', 'gouraud']:\u001b[39;00m\n\u001b[32m   6059\u001b[39m     \u001b[38;5;28;01mif\u001b[39;00m (Nx, Ny) != (ncols, nrows):\n\u001b[32m-> \u001b[39m\u001b[32m6060\u001b[39m         \u001b[38;5;28;01mraise\u001b[39;00m \u001b[38;5;167;01mTypeError\u001b[39;00m(\u001b[33m'\u001b[39m\u001b[33mDimensions of C \u001b[39m\u001b[38;5;132;01m%s\u001b[39;00m\u001b[33m are incompatible with\u001b[39m\u001b[33m'\u001b[39m\n\u001b[32m   6061\u001b[39m                         \u001b[33m'\u001b[39m\u001b[33m X (\u001b[39m\u001b[38;5;132;01m%d\u001b[39;00m\u001b[33m) and/or Y (\u001b[39m\u001b[38;5;132;01m%d\u001b[39;00m\u001b[33m); see help(\u001b[39m\u001b[38;5;132;01m%s\u001b[39;00m\u001b[33m)\u001b[39m\u001b[33m'\u001b[39m % (\n\u001b[32m   6062\u001b[39m                             C.shape, Nx, Ny, funcname))\n\u001b[32m   6063\u001b[39m     \u001b[38;5;28;01mif\u001b[39;00m shading == \u001b[33m'\u001b[39m\u001b[33mnearest\u001b[39m\u001b[33m'\u001b[39m:\n\u001b[32m   6064\u001b[39m         \u001b[38;5;66;03m# grid is specified at the center, so define corners\u001b[39;00m\n\u001b[32m   6065\u001b[39m         \u001b[38;5;66;03m# at the midpoints between the grid centers and then use the\u001b[39;00m\n\u001b[32m   6066\u001b[39m         \u001b[38;5;66;03m# flat algorithm.\u001b[39;00m\n\u001b[32m   6067\u001b[39m         \u001b[38;5;28;01mdef\u001b[39;00m\u001b[38;5;250m \u001b[39m\u001b[34m_interp_grid\u001b[39m(X, require_monotonicity=\u001b[38;5;28;01mFalse\u001b[39;00m):\n\u001b[32m   6068\u001b[39m             \u001b[38;5;66;03m# helper for below. To ensure the cell edges are calculated\u001b[39;00m\n\u001b[32m   6069\u001b[39m             \u001b[38;5;66;03m# correctly, when expanding columns, the monotonicity of\u001b[39;00m\n\u001b[32m   6070\u001b[39m             \u001b[38;5;66;03m# X coords needs to be checked. When expanding rows, the\u001b[39;00m\n\u001b[32m   6071\u001b[39m             \u001b[38;5;66;03m# monotonicity of Y coords needs to be checked.\u001b[39;00m\n",
      "\u001b[31mTypeError\u001b[39m: Dimensions of C (64, 47) are incompatible with X (46) and/or Y (64); see help(pcolormesh)"
     ]
    },
    {
     "data": {
      "image/png": "[encoded data removed]",
      "text/plain": [
       "<Figure size 1000x600 with 1 Axes>"
      ]
     },
     "metadata": {},
     "output_type": "display_data"
    }
   ],
   "source": [
    "from pyquantus.utc.analysis import CentralFrequencyShift\n",
    "\n",
    "# Create instance\n",
    "cfs = CentralFrequencyShift(\n",
    "    signal_1d=signal_1d,\n",
    "    sampling_frequency_MHz=30,\n",
    "    time_array_s=depth_time_obj.time_array_s,\n",
    "    depth_array_cm=depth_time_obj.depth_array_cm,  \n",
    "    stft_params={'nperseg': 128,\n",
    "                 'overlap': 64}  \n",
    ")\n",
    "\n"
   ]
  }
 ],
 "metadata": {
  "kernelspec": {
   "display_name": ".venv",
   "language": "python",
   "name": "python3"
  },
  "language_info": {
   "codemirror_mode": {
    "name": "ipython",
    "version": 3
   },
   "file_extension": ".py",
   "mimetype": "text/x-python",
   "name": "python",
   "nbconvert_exporter": "python",
   "pygments_lexer": "ipython3",
   "version": "3.12.0"
  }
 },
 "nbformat": 4,
 "nbformat_minor": 2
}
